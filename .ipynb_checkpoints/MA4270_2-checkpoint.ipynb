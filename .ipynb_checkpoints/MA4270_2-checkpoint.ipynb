{
 "cells": [
  {
   "cell_type": "markdown",
   "metadata": {},
   "source": [
    "# Problem:\n",
    "##### Classify the type of glass based on several explanatory factors affecting the type of glass like Fe,Na,Mg etc."
   ]
  },
  {
   "cell_type": "markdown",
   "metadata": {},
   "source": [
    "# Import File Packages "
   ]
  },
  {
   "cell_type": "code",
   "execution_count": 1,
   "metadata": {},
   "outputs": [],
   "source": [
    "import pandas as pd\n",
    "import numpy as np\n",
    "\n",
    "# ML packages\n",
    "from sklearn import datasets\n",
    "from sklearn import metrics\n",
    "from sklearn.model_selection import train_test_split\n",
    "from sklearn.ensemble import RandomForestClassifier\n",
    "from sklearn.model_selection import GridSearchCV\n",
    "from sklearn.model_selection import ParameterGrid\n",
    "from sklearn.metrics import accuracy_score\n",
    "from sklearn.metrics import mean_squared_error\n",
    "from xgboost import (XGBClassifier, plot_importance)\n",
    "\n",
    "# Visualisation packages\n",
    "import seaborn as sns\n",
    "sns.set_theme(style = \"whitegrid\")\n",
    "import matplotlib.pyplot as plt\n",
    "%matplotlib inline"
   ]
  },
  {
   "cell_type": "markdown",
   "metadata": {},
   "source": [
    "# Dataset"
   ]
  },
  {
   "cell_type": "code",
   "execution_count": 2,
   "metadata": {},
   "outputs": [],
   "source": [
    "# Explanatory Factors: \n",
    "# 1. RI: refractive index\n",
    "# 2. Na: Sodium (unit measurement: weight percent in corresponding oxide, as are attributes 3-9)\n",
    "# 3. Mg: Magnesium\n",
    "# 4. Al: Aluminum\n",
    "# 5. Si: Silicon\n",
    "# 6. K: Potassium\n",
    "# 7. Ca: Calcium\n",
    "# 8. Ba: Barium\n",
    "# 9. Fe: Iron\n",
    "\n",
    "# Type of glass:\n",
    "# -- 1 building windows float processed: 'build wind float'\n",
    "# -- 2 building windows non-float processed: 'build wind non-float'\n",
    "# -- 3 vehicle windows float processed: 'vehic wind float'\n",
    "# -- 4 vehicle windows non-float processed (none in this database)\n",
    "# -- 5 containers\n",
    "# -- 6 tableware\n",
    "# -- 7 headlamps"
   ]
  },
  {
   "cell_type": "code",
   "execution_count": 3,
   "metadata": {},
   "outputs": [
    {
     "data": {
      "text/html": [
       "<div>\n",
       "<style scoped>\n",
       "    .dataframe tbody tr th:only-of-type {\n",
       "        vertical-align: middle;\n",
       "    }\n",
       "\n",
       "    .dataframe tbody tr th {\n",
       "        vertical-align: top;\n",
       "    }\n",
       "\n",
       "    .dataframe thead th {\n",
       "        text-align: right;\n",
       "    }\n",
       "</style>\n",
       "<table border=\"1\" class=\"dataframe\">\n",
       "  <thead>\n",
       "    <tr style=\"text-align: right;\">\n",
       "      <th></th>\n",
       "      <th>Unnamed: 0</th>\n",
       "      <th>Unnamed: 0.1</th>\n",
       "      <th>RI</th>\n",
       "      <th>Na</th>\n",
       "      <th>Mg</th>\n",
       "      <th>Al</th>\n",
       "      <th>Si</th>\n",
       "      <th>K</th>\n",
       "      <th>Ca</th>\n",
       "      <th>Ba</th>\n",
       "      <th>Fe</th>\n",
       "      <th>Type</th>\n",
       "    </tr>\n",
       "  </thead>\n",
       "  <tbody>\n",
       "    <tr>\n",
       "      <th>0</th>\n",
       "      <td>0</td>\n",
       "      <td>2732</td>\n",
       "      <td>1.52211</td>\n",
       "      <td>14.19</td>\n",
       "      <td>3.78</td>\n",
       "      <td>0.91</td>\n",
       "      <td>71.36</td>\n",
       "      <td>0.23</td>\n",
       "      <td>9.14</td>\n",
       "      <td>0.00</td>\n",
       "      <td>0.37</td>\n",
       "      <td>'vehic wind float'</td>\n",
       "    </tr>\n",
       "    <tr>\n",
       "      <th>1</th>\n",
       "      <td>1</td>\n",
       "      <td>2607</td>\n",
       "      <td>1.51645</td>\n",
       "      <td>14.94</td>\n",
       "      <td>0.00</td>\n",
       "      <td>1.87</td>\n",
       "      <td>73.11</td>\n",
       "      <td>0.00</td>\n",
       "      <td>8.67</td>\n",
       "      <td>1.38</td>\n",
       "      <td>0.00</td>\n",
       "      <td>headlamps</td>\n",
       "    </tr>\n",
       "    <tr>\n",
       "      <th>2</th>\n",
       "      <td>2</td>\n",
       "      <td>1653</td>\n",
       "      <td>1.51793</td>\n",
       "      <td>13.21</td>\n",
       "      <td>3.48</td>\n",
       "      <td>1.41</td>\n",
       "      <td>72.64</td>\n",
       "      <td>0.59</td>\n",
       "      <td>8.43</td>\n",
       "      <td>0.00</td>\n",
       "      <td>0.00</td>\n",
       "      <td>'build wind float'</td>\n",
       "    </tr>\n",
       "    <tr>\n",
       "      <th>3</th>\n",
       "      <td>3</td>\n",
       "      <td>3264</td>\n",
       "      <td>1.51730</td>\n",
       "      <td>12.35</td>\n",
       "      <td>2.72</td>\n",
       "      <td>1.63</td>\n",
       "      <td>72.87</td>\n",
       "      <td>0.70</td>\n",
       "      <td>9.23</td>\n",
       "      <td>0.00</td>\n",
       "      <td>0.00</td>\n",
       "      <td>'build wind non-float'</td>\n",
       "    </tr>\n",
       "    <tr>\n",
       "      <th>4</th>\n",
       "      <td>4</td>\n",
       "      <td>4931</td>\n",
       "      <td>1.51673</td>\n",
       "      <td>13.30</td>\n",
       "      <td>3.64</td>\n",
       "      <td>1.53</td>\n",
       "      <td>72.53</td>\n",
       "      <td>0.65</td>\n",
       "      <td>8.03</td>\n",
       "      <td>0.00</td>\n",
       "      <td>0.29</td>\n",
       "      <td>'build wind non-float'</td>\n",
       "    </tr>\n",
       "  </tbody>\n",
       "</table>\n",
       "</div>"
      ],
      "text/plain": [
       "   Unnamed: 0  Unnamed: 0.1       RI     Na    Mg    Al     Si     K    Ca  \\\n",
       "0           0          2732  1.52211  14.19  3.78  0.91  71.36  0.23  9.14   \n",
       "1           1          2607  1.51645  14.94  0.00  1.87  73.11  0.00  8.67   \n",
       "2           2          1653  1.51793  13.21  3.48  1.41  72.64  0.59  8.43   \n",
       "3           3          3264  1.51730  12.35  2.72  1.63  72.87  0.70  9.23   \n",
       "4           4          4931  1.51673  13.30  3.64  1.53  72.53  0.65  8.03   \n",
       "\n",
       "     Ba    Fe                    Type  \n",
       "0  0.00  0.37      'vehic wind float'  \n",
       "1  1.38  0.00               headlamps  \n",
       "2  0.00  0.00      'build wind float'  \n",
       "3  0.00  0.00  'build wind non-float'  \n",
       "4  0.00  0.29  'build wind non-float'  "
      ]
     },
     "execution_count": 3,
     "metadata": {},
     "output_type": "execute_result"
    }
   ],
   "source": [
    "##df = pd.read_csv(r\"C:\\Users\\siyin\\Desktop\\MA4270_Coding\\Glass_Type.csv\")\n",
    "## if same folder no need to go all the way to C:/ \n",
    "df = pd.read_csv(r\"Glass_Type.csv\")\n",
    "df.head()"
   ]
  },
  {
   "cell_type": "code",
   "execution_count": 4,
   "metadata": {},
   "outputs": [
    {
     "data": {
      "text/html": [
       "<div>\n",
       "<style scoped>\n",
       "    .dataframe tbody tr th:only-of-type {\n",
       "        vertical-align: middle;\n",
       "    }\n",
       "\n",
       "    .dataframe tbody tr th {\n",
       "        vertical-align: top;\n",
       "    }\n",
       "\n",
       "    .dataframe thead th {\n",
       "        text-align: right;\n",
       "    }\n",
       "</style>\n",
       "<table border=\"1\" class=\"dataframe\">\n",
       "  <thead>\n",
       "    <tr style=\"text-align: right;\">\n",
       "      <th></th>\n",
       "      <th>RI</th>\n",
       "      <th>Na</th>\n",
       "      <th>Mg</th>\n",
       "      <th>Al</th>\n",
       "      <th>Si</th>\n",
       "      <th>K</th>\n",
       "      <th>Ca</th>\n",
       "      <th>Ba</th>\n",
       "      <th>Fe</th>\n",
       "      <th>Type</th>\n",
       "    </tr>\n",
       "  </thead>\n",
       "  <tbody>\n",
       "    <tr>\n",
       "      <th>0</th>\n",
       "      <td>1.52211</td>\n",
       "      <td>14.19</td>\n",
       "      <td>3.78</td>\n",
       "      <td>0.91</td>\n",
       "      <td>71.36</td>\n",
       "      <td>0.23</td>\n",
       "      <td>9.14</td>\n",
       "      <td>0.00</td>\n",
       "      <td>0.37</td>\n",
       "      <td>'vehic wind float'</td>\n",
       "    </tr>\n",
       "    <tr>\n",
       "      <th>1</th>\n",
       "      <td>1.51645</td>\n",
       "      <td>14.94</td>\n",
       "      <td>0.00</td>\n",
       "      <td>1.87</td>\n",
       "      <td>73.11</td>\n",
       "      <td>0.00</td>\n",
       "      <td>8.67</td>\n",
       "      <td>1.38</td>\n",
       "      <td>0.00</td>\n",
       "      <td>headlamps</td>\n",
       "    </tr>\n",
       "    <tr>\n",
       "      <th>2</th>\n",
       "      <td>1.51793</td>\n",
       "      <td>13.21</td>\n",
       "      <td>3.48</td>\n",
       "      <td>1.41</td>\n",
       "      <td>72.64</td>\n",
       "      <td>0.59</td>\n",
       "      <td>8.43</td>\n",
       "      <td>0.00</td>\n",
       "      <td>0.00</td>\n",
       "      <td>'build wind float'</td>\n",
       "    </tr>\n",
       "    <tr>\n",
       "      <th>3</th>\n",
       "      <td>1.51730</td>\n",
       "      <td>12.35</td>\n",
       "      <td>2.72</td>\n",
       "      <td>1.63</td>\n",
       "      <td>72.87</td>\n",
       "      <td>0.70</td>\n",
       "      <td>9.23</td>\n",
       "      <td>0.00</td>\n",
       "      <td>0.00</td>\n",
       "      <td>'build wind non-float'</td>\n",
       "    </tr>\n",
       "    <tr>\n",
       "      <th>4</th>\n",
       "      <td>1.51673</td>\n",
       "      <td>13.30</td>\n",
       "      <td>3.64</td>\n",
       "      <td>1.53</td>\n",
       "      <td>72.53</td>\n",
       "      <td>0.65</td>\n",
       "      <td>8.03</td>\n",
       "      <td>0.00</td>\n",
       "      <td>0.29</td>\n",
       "      <td>'build wind non-float'</td>\n",
       "    </tr>\n",
       "  </tbody>\n",
       "</table>\n",
       "</div>"
      ],
      "text/plain": [
       "        RI     Na    Mg    Al     Si     K    Ca    Ba    Fe  \\\n",
       "0  1.52211  14.19  3.78  0.91  71.36  0.23  9.14  0.00  0.37   \n",
       "1  1.51645  14.94  0.00  1.87  73.11  0.00  8.67  1.38  0.00   \n",
       "2  1.51793  13.21  3.48  1.41  72.64  0.59  8.43  0.00  0.00   \n",
       "3  1.51730  12.35  2.72  1.63  72.87  0.70  9.23  0.00  0.00   \n",
       "4  1.51673  13.30  3.64  1.53  72.53  0.65  8.03  0.00  0.29   \n",
       "\n",
       "                     Type  \n",
       "0      'vehic wind float'  \n",
       "1               headlamps  \n",
       "2      'build wind float'  \n",
       "3  'build wind non-float'  \n",
       "4  'build wind non-float'  "
      ]
     },
     "execution_count": 4,
     "metadata": {},
     "output_type": "execute_result"
    }
   ],
   "source": [
    "df_1 = df.drop(['Unnamed: 0','Unnamed: 0.1'], axis=1)\n",
    "df_1.head()"
   ]
  },
  {
   "cell_type": "code",
   "execution_count": 5,
   "metadata": {},
   "outputs": [
    {
     "data": {
      "text/html": [
       "<div>\n",
       "<style scoped>\n",
       "    .dataframe tbody tr th:only-of-type {\n",
       "        vertical-align: middle;\n",
       "    }\n",
       "\n",
       "    .dataframe tbody tr th {\n",
       "        vertical-align: top;\n",
       "    }\n",
       "\n",
       "    .dataframe thead th {\n",
       "        text-align: right;\n",
       "    }\n",
       "</style>\n",
       "<table border=\"1\" class=\"dataframe\">\n",
       "  <thead>\n",
       "    <tr style=\"text-align: right;\">\n",
       "      <th></th>\n",
       "      <th>RI</th>\n",
       "      <th>Na</th>\n",
       "      <th>Mg</th>\n",
       "      <th>Al</th>\n",
       "      <th>Si</th>\n",
       "      <th>K</th>\n",
       "      <th>Ca</th>\n",
       "      <th>Ba</th>\n",
       "      <th>Fe</th>\n",
       "      <th>Type</th>\n",
       "    </tr>\n",
       "  </thead>\n",
       "  <tbody>\n",
       "    <tr>\n",
       "      <th>0</th>\n",
       "      <td>1.52211</td>\n",
       "      <td>14.19</td>\n",
       "      <td>3.78</td>\n",
       "      <td>0.91</td>\n",
       "      <td>71.36</td>\n",
       "      <td>0.23</td>\n",
       "      <td>9.14</td>\n",
       "      <td>0.00</td>\n",
       "      <td>0.37</td>\n",
       "      <td>3</td>\n",
       "    </tr>\n",
       "    <tr>\n",
       "      <th>1</th>\n",
       "      <td>1.51645</td>\n",
       "      <td>14.94</td>\n",
       "      <td>0.00</td>\n",
       "      <td>1.87</td>\n",
       "      <td>73.11</td>\n",
       "      <td>0.00</td>\n",
       "      <td>8.67</td>\n",
       "      <td>1.38</td>\n",
       "      <td>0.00</td>\n",
       "      <td>7</td>\n",
       "    </tr>\n",
       "    <tr>\n",
       "      <th>2</th>\n",
       "      <td>1.51793</td>\n",
       "      <td>13.21</td>\n",
       "      <td>3.48</td>\n",
       "      <td>1.41</td>\n",
       "      <td>72.64</td>\n",
       "      <td>0.59</td>\n",
       "      <td>8.43</td>\n",
       "      <td>0.00</td>\n",
       "      <td>0.00</td>\n",
       "      <td>1</td>\n",
       "    </tr>\n",
       "    <tr>\n",
       "      <th>3</th>\n",
       "      <td>1.51730</td>\n",
       "      <td>12.35</td>\n",
       "      <td>2.72</td>\n",
       "      <td>1.63</td>\n",
       "      <td>72.87</td>\n",
       "      <td>0.70</td>\n",
       "      <td>9.23</td>\n",
       "      <td>0.00</td>\n",
       "      <td>0.00</td>\n",
       "      <td>2</td>\n",
       "    </tr>\n",
       "    <tr>\n",
       "      <th>4</th>\n",
       "      <td>1.51673</td>\n",
       "      <td>13.30</td>\n",
       "      <td>3.64</td>\n",
       "      <td>1.53</td>\n",
       "      <td>72.53</td>\n",
       "      <td>0.65</td>\n",
       "      <td>8.03</td>\n",
       "      <td>0.00</td>\n",
       "      <td>0.29</td>\n",
       "      <td>2</td>\n",
       "    </tr>\n",
       "  </tbody>\n",
       "</table>\n",
       "</div>"
      ],
      "text/plain": [
       "        RI     Na    Mg    Al     Si     K    Ca    Ba    Fe  Type\n",
       "0  1.52211  14.19  3.78  0.91  71.36  0.23  9.14  0.00  0.37     3\n",
       "1  1.51645  14.94  0.00  1.87  73.11  0.00  8.67  1.38  0.00     7\n",
       "2  1.51793  13.21  3.48  1.41  72.64  0.59  8.43  0.00  0.00     1\n",
       "3  1.51730  12.35  2.72  1.63  72.87  0.70  9.23  0.00  0.00     2\n",
       "4  1.51673  13.30  3.64  1.53  72.53  0.65  8.03  0.00  0.29     2"
      ]
     },
     "execution_count": 5,
     "metadata": {},
     "output_type": "execute_result"
    }
   ],
   "source": [
    "Dict = {\"'build wind float'\": 1,\\\n",
    "        \"'build wind non-float'\": 2,\\\n",
    "        \"'vehic wind float'\": 3,\\\n",
    "        \"'vehic wind non-float'\": 4,\\\n",
    "        'containers': 5,\\\n",
    "        'tableware': 6,\\\n",
    "        'headlamps': 7}\n",
    "df_1['Type'] = df_1['Type'].map(Dict)\n",
    "df_1.head()"
   ]
  },
  {
   "cell_type": "code",
   "execution_count": 6,
   "metadata": {},
   "outputs": [
    {
     "data": {
      "text/plain": [
       "RI      0\n",
       "Na      0\n",
       "Mg      0\n",
       "Al      0\n",
       "Si      0\n",
       "K       0\n",
       "Ca      0\n",
       "Ba      0\n",
       "Fe      0\n",
       "Type    0\n",
       "dtype: int64"
      ]
     },
     "execution_count": 6,
     "metadata": {},
     "output_type": "execute_result"
    }
   ],
   "source": [
    "# Check no null value in dataset\n",
    "df_1.isna().sum()"
   ]
  },
  {
   "cell_type": "markdown",
   "metadata": {},
   "source": [
    "# Data Exploration"
   ]
  },
  {
   "cell_type": "code",
   "execution_count": 7,
   "metadata": {},
   "outputs": [
    {
     "data": {
      "text/plain": [
       "Text(0.5, 1.0, 'Count of Glass Types')"
      ]
     },
     "execution_count": 7,
     "metadata": {},
     "output_type": "execute_result"
    },
    {
     "data": {
      "image/png": "[encoded data removed]",
      "text/plain": [
       "<Figure size 432x288 with 1 Axes>"
      ]
     },
     "metadata": {
      "needs_background": "light"
     },
     "output_type": "display_data"
    }
   ],
   "source": [
    "sns.countplot(x = 'Type', data = df_1).set_title(\"Count of Glass Types\")\n",
    "\n",
    "# Comments:\n",
    "# Type 1 and 2 have the highest count in this dataset.\n",
    "# Need to make sure that the train and test data set have a good representation of different glass types."
   ]
  },
  {
   "cell_type": "code",
   "execution_count": 8,
   "metadata": {},
   "outputs": [
    {
     "data": {
      "text/plain": [
       "<AxesSubplot:>"
      ]
     },
     "execution_count": 8,
     "metadata": {},
     "output_type": "execute_result"
    },
    {
     "data": {
      "image/png": "[encoded data removed]",
      "text/plain": [
       "<Figure size 1152x720 with 2 Axes>"
      ]
     },
     "metadata": {
      "needs_background": "light"
     },
     "output_type": "display_data"
    }
   ],
   "source": [
    "# Check for correlations via heatmap\n",
    "plt.figure(figsize=(16,10))\n",
    "\n",
    "# Correlation between elements composition.\n",
    "# Remove the type of glass\n",
    "df_2 = df_1.drop(['Type'], axis = 1)\n",
    "\n",
    "# Masking\n",
    "mask = np.zeros_like(df_2.corr())\n",
    "triangle_indices = np.triu_indices_from(mask)\n",
    "mask[triangle_indices] = True\n",
    "\n",
    "sns.heatmap(df_2.corr(), cmap = \"YlGnBu\", annot = True, fmt =\".02f\", linewidth = 0.5, mask = mask)\n",
    "\n",
    "# Comments:\n",
    "# RI and Ca have a high positive correlation\n",
    "# RI and Si have a negative correlation"
   ]
  },
  {
   "cell_type": "code",
   "execution_count": 16,
   "metadata": {},
   "outputs": [
    {
     "name": "stdout",
     "output_type": "stream",
     "text": [
      "1.51115 1.53393\n",
      "10.73 17.38\n",
      "0.0 4.49\n",
      "0.29 3.5\n",
      "69.81 75.41\n",
      "0.0 6.21\n",
      "5.43 16.19\n",
      "0.0 3.15\n",
      "0.0 0.51\n"
     ]
    }
   ],
   "source": [
    "#RI\tNa\tMg\tAl\tSi\tK\tCa\tBa\tFe\n",
    "print(min(df_2['RI']), max(df_2['RI']))\n",
    "print(min(df_2['Na']), max(df_2['Na']))\n",
    "print(min(df_2['Mg']), max(df_2['Mg']))\n",
    "print(min(df_2['Al']), max(df_2['Al']))\n",
    "print(min(df_2['Si']), max(df_2['Si']))\n",
    "print(min(df_2['K']), max(df_2['K']))\n",
    "print(min(df_2['Ca']), max(df_2['Ca']))\n",
    "print(min(df_2['Ba']), max(df_2['Ba']))\n",
    "print(min(df_2['Fe']), max(df_2['Fe']))"
   ]
  },
  {
   "cell_type": "markdown",
   "metadata": {},
   "source": [
    "# Model: Random Forest"
   ]
  },
  {
   "cell_type": "code",
   "execution_count": 17,
   "metadata": {},
   "outputs": [
    {
     "name": "stdout",
     "output_type": "stream",
     "text": [
      "[1 2 3 5 6 7]\n",
      "[1 2 3 5 6 7]\n"
     ]
    }
   ],
   "source": [
    "# Split Dataset: 60% train, 40% test\n",
    "x_var = df_1[['RI','Na','Mg','Al','Si','K','Ca','Ba','Fe']]\n",
    "y_var = df_1[['Type']]\n",
    "x_train, x_test, y_train, y_test = train_test_split(x_var, y_var, test_size = 0.4, random_state = 40)\n",
    "\n",
    "# Make sure that all types of glass is in the test dataset. Note: glass type 4 is not in this dataset\n",
    "print(np.unique(y_train))\n",
    "print(np.unique(y_test))"
   ]
  },
  {
   "cell_type": "code",
   "execution_count": 18,
   "metadata": {},
   "outputs": [
    {
     "name": "stdout",
     "output_type": "stream",
     "text": [
      "Scoring:0.6403426791277259\n",
      "The RMSE on the test set is 1.2\n"
     ]
    }
   ],
   "source": [
    "# Without hyperparameter tuning\n",
    "# Choose a simple and easy model: n_estimators (number of trees in forest) = 2, max_depth = 2\n",
    "# The rest we use the default setting\n",
    "\n",
    "RF = RandomForestClassifier(random_state = 42, \n",
    "                            n_estimators = 2, max_depth = 2)\n",
    "RF.fit(x_train, y_train.values.ravel())\n",
    "prediction = RF.predict(x_test)\n",
    "scoring_RF = accuracy_score(y_test, prediction)\n",
    "print('Scoring:' + str(scoring_RF))\n",
    "final_mse = mean_squared_error(y_test, prediction)\n",
    "final_rmse = np.sqrt(final_mse)\n",
    "print('The RMSE on the test set is', round(final_rmse, 2))\n",
    "\n",
    "# from sklearn.metrics import ConfusionMatrixDisplay\n",
    "# cm = confusion_matrix(y_test, prediction)\n",
    "# check want to plot confusion matrix to do comparison\n"
   ]
  },
  {
   "cell_type": "code",
   "execution_count": 19,
   "metadata": {},
   "outputs": [
    {
     "name": "stdout",
     "output_type": "stream",
     "text": [
      "{'max_depth': 2, 'n_estimators': 2}\n",
      "Scoring: 0.6403426791277259\n",
      "{'max_depth': 2, 'n_estimators': 3}\n",
      "Scoring: 0.6529984423676013\n",
      "{'max_depth': 2, 'n_estimators': 4}\n",
      "Scoring: 0.6601895119418484\n",
      "{'max_depth': 2, 'n_estimators': 5}\n",
      "Scoring: 0.6648364485981308\n",
      "{'max_depth': 2, 'n_estimators': 10}\n",
      "Scoring: 0.6684319833852544\n",
      "{'max_depth': 2, 'n_estimators': 50}\n",
      "Scoring: 0.6674974039460021\n",
      "{'max_depth': 2, 'n_estimators': 100}\n",
      "Scoring: 0.6721443406022846\n",
      "{'max_depth': 3, 'n_estimators': 2}\n",
      "Scoring: 0.745508826583593\n",
      "{'max_depth': 3, 'n_estimators': 3}\n",
      "Scoring: 0.7636033229491174\n",
      "{'max_depth': 3, 'n_estimators': 4}\n",
      "Scoring: 0.7600077881619938\n",
      "{'max_depth': 3, 'n_estimators': 5}\n",
      "Scoring: 0.764460020768432\n",
      "{'max_depth': 3, 'n_estimators': 10}\n",
      "Scoring: 0.7694055036344756\n",
      "{'max_depth': 3, 'n_estimators': 50}\n",
      "Scoring: 0.7798286604361371\n",
      "{'max_depth': 3, 'n_estimators': 100}\n",
      "Scoring: 0.7899402907580477\n",
      "{'max_depth': 4, 'n_estimators': 2}\n",
      "Scoring: 0.7735981308411215\n",
      "{'max_depth': 4, 'n_estimators': 3}\n",
      "Scoring: 0.8031931464174454\n",
      "{'max_depth': 4, 'n_estimators': 4}\n",
      "Scoring: 0.8119418483904465\n",
      "{'max_depth': 4, 'n_estimators': 5}\n",
      "Scoring: 0.811889927310488\n",
      "{'max_depth': 4, 'n_estimators': 10}\n",
      "Scoring: 0.8146028037383177\n",
      "{'max_depth': 4, 'n_estimators': 50}\n",
      "Scoring: 0.8418094496365525\n",
      "{'max_depth': 4, 'n_estimators': 100}\n",
      "Scoring: 0.8214693665628245\n",
      "{'max_depth': 5, 'n_estimators': 2}\n",
      "Scoring: 0.9063862928348909\n",
      "{'max_depth': 5, 'n_estimators': 3}\n",
      "Scoring: 0.8965212876427829\n",
      "{'max_depth': 5, 'n_estimators': 4}\n",
      "Scoring: 0.9193665628245068\n",
      "{'max_depth': 5, 'n_estimators': 5}\n",
      "Scoring: 0.9353452751817238\n",
      "{'max_depth': 5, 'n_estimators': 10}\n",
      "Scoring: 0.917601246105919\n",
      "{'max_depth': 5, 'n_estimators': 50}\n",
      "Scoring: 0.90236240913811\n",
      "{'max_depth': 5, 'n_estimators': 100}\n",
      "Scoring: 0.9059579439252337\n",
      "{'max_depth': 10, 'n_estimators': 2}\n",
      "Scoring: 0.9955477673935618\n",
      "{'max_depth': 10, 'n_estimators': 3}\n",
      "Scoring: 0.9906801661474559\n",
      "{'max_depth': 10, 'n_estimators': 4}\n",
      "Scoring: 0.994392523364486\n",
      "{'max_depth': 10, 'n_estimators': 5}\n",
      "Scoring: 0.994392523364486\n",
      "{'max_depth': 10, 'n_estimators': 10}\n",
      "Scoring: 1.0\n",
      "{'max_depth': 10, 'n_estimators': 50}\n",
      "Scoring: 1.0\n",
      "{'max_depth': 10, 'n_estimators': 100}\n",
      "Scoring: 1.0\n",
      "{'max_depth': 50, 'n_estimators': 2}\n",
      "Scoring: 1.0\n",
      "{'max_depth': 50, 'n_estimators': 3}\n",
      "Scoring: 1.0\n",
      "{'max_depth': 50, 'n_estimators': 4}\n",
      "Scoring: 1.0\n",
      "{'max_depth': 50, 'n_estimators': 5}\n",
      "Scoring: 1.0\n",
      "{'max_depth': 50, 'n_estimators': 10}\n",
      "Scoring: 1.0\n",
      "{'max_depth': 50, 'n_estimators': 50}\n",
      "Scoring: 1.0\n",
      "{'max_depth': 50, 'n_estimators': 100}\n",
      "Scoring: 1.0\n",
      "{'max_depth': 100, 'n_estimators': 2}\n",
      "Scoring: 1.0\n",
      "{'max_depth': 100, 'n_estimators': 3}\n",
      "Scoring: 1.0\n",
      "{'max_depth': 100, 'n_estimators': 4}\n",
      "Scoring: 1.0\n",
      "{'max_depth': 100, 'n_estimators': 5}\n",
      "Scoring: 1.0\n",
      "{'max_depth': 100, 'n_estimators': 10}\n",
      "Scoring: 1.0\n",
      "{'max_depth': 100, 'n_estimators': 50}\n",
      "Scoring: 1.0\n",
      "{'max_depth': 100, 'n_estimators': 100}\n",
      "Scoring: 1.0\n"
     ]
    }
   ],
   "source": [
    "# Hyperparameter tuning\n",
    "\n",
    "grid = {'n_estimators': [2, 3, 4, 5, 10, 50, 100],\n",
    "        'max_depth': [2, 3, 4, 5, 10, 50, 100],\n",
    "       }\n",
    "\n",
    "sampler = ParameterGrid(grid)\n",
    "\n",
    "lst = []\n",
    "for params in sampler:\n",
    "    print(params)\n",
    "    RF_1 = RandomForestClassifier(random_state = 42, n_estimators = params['n_estimators'], max_depth = params['max_depth'])\n",
    "    grid_fit = RF_1.fit(x_train, y_train.values.ravel())\n",
    "    prediction = RF_1.predict(x_test)\n",
    "    scoring_RF = accuracy_score(y_test, prediction)\n",
    "    print(\"Scoring: \"+str(scoring_RF))  \n",
    "    lst.append([params['max_depth'],params['n_estimators'], scoring_RF])"
   ]
  },
  {
   "cell_type": "code",
   "execution_count": 20,
   "metadata": {},
   "outputs": [
    {
     "name": "stdout",
     "output_type": "stream",
     "text": [
      "[[2, 2, 0.6403426791277259], [2, 3, 0.6529984423676013], [2, 4, 0.6601895119418484], [2, 5, 0.6648364485981308], [2, 10, 0.6684319833852544], [2, 50, 0.6674974039460021], [2, 100, 0.6721443406022846], [3, 2, 0.745508826583593], [3, 3, 0.7636033229491174], [3, 4, 0.7600077881619938], [3, 5, 0.764460020768432], [3, 10, 0.7694055036344756], [3, 50, 0.7798286604361371], [3, 100, 0.7899402907580477], [4, 2, 0.7735981308411215], [4, 3, 0.8031931464174454], [4, 4, 0.8119418483904465], [4, 5, 0.811889927310488], [4, 10, 0.8146028037383177], [4, 50, 0.8418094496365525], [4, 100, 0.8214693665628245], [5, 2, 0.9063862928348909], [5, 3, 0.8965212876427829], [5, 4, 0.9193665628245068], [5, 5, 0.9353452751817238], [5, 10, 0.917601246105919], [5, 50, 0.90236240913811], [5, 100, 0.9059579439252337], [10, 2, 0.9955477673935618], [10, 3, 0.9906801661474559], [10, 4, 0.994392523364486], [10, 5, 0.994392523364486], [10, 10, 1.0], [10, 50, 1.0], [10, 100, 1.0], [50, 2, 1.0], [50, 3, 1.0], [50, 4, 1.0], [50, 5, 1.0], [50, 10, 1.0], [50, 50, 1.0], [50, 100, 1.0], [100, 2, 1.0], [100, 3, 1.0], [100, 4, 1.0], [100, 5, 1.0], [100, 10, 1.0], [100, 50, 1.0], [100, 100, 1.0]]\n"
     ]
    }
   ],
   "source": [
    "print(lst)"
   ]
  },
  {
   "cell_type": "code",
   "execution_count": 21,
   "metadata": {},
   "outputs": [
    {
     "data": {
      "image/png": "[encoded data removed]",
      "text/plain": [
       "<Figure size 576x576 with 1 Axes>"
      ]
     },
     "metadata": {
      "needs_background": "light"
     },
     "output_type": "display_data"
    }
   ],
   "source": [
    "df_scoring = pd.DataFrame(lst)\n",
    "df_scoring.columns = ['max_depth','n_estimators', 'scoring']\n",
    "\n",
    "max_depth_2 = df_scoring.loc[df_scoring['max_depth'] == 2]\n",
    "max_depth_3 = df_scoring.loc[df_scoring['max_depth'] == 3]\n",
    "max_depth_4 = df_scoring.loc[df_scoring['max_depth'] == 4]\n",
    "max_depth_5 = df_scoring.loc[df_scoring['max_depth'] == 5]\n",
    "max_depth_10 = df_scoring.loc[df_scoring['max_depth'] == 10]\n",
    "max_depth_50 = df_scoring.loc[df_scoring['max_depth'] == 50]\n",
    "max_depth_100 = df_scoring.loc[df_scoring['max_depth'] == 100]\n",
    "\n",
    "plt.figure(figsize=(8, 8))\n",
    "plt.plot(max_depth_2['n_estimators'], max_depth_2['scoring'], label = \"max_depth = 2\")\n",
    "plt.plot(max_depth_3['n_estimators'], max_depth_3['scoring'], label = \"max_depth = 3\")\n",
    "plt.plot(max_depth_4['n_estimators'], max_depth_4['scoring'], label = \"max_depth = 4\")\n",
    "plt.plot(max_depth_5['n_estimators'], max_depth_5['scoring'], label = \"max_depth = 5\")\n",
    "plt.plot(max_depth_10['n_estimators'], max_depth_10['scoring'], label = \"max_depth = 10\")\n",
    "plt.plot(max_depth_50['n_estimators'], max_depth_50['scoring'], label = \"max_depth = 50\")\n",
    "plt.plot(max_depth_100['n_estimators'], max_depth_100['scoring'], label = \"max_depth = 100\")\n",
    "\n",
    "plt.ylabel('Scoring')\n",
    "plt.xlabel('n_estimators')\n",
    "plt.title('Hyperparameter tuning of max_depth')\n",
    "plt.legend(bbox_to_anchor=(1.3, 1.0), loc='upper center')\n",
    "plt.show()"
   ]
  },
  {
   "cell_type": "code",
   "execution_count": 22,
   "metadata": {},
   "outputs": [
    {
     "data": {
      "image/png": "[encoded data removed]",
      "text/plain": [
       "<Figure size 576x576 with 1 Axes>"
      ]
     },
     "metadata": {
      "needs_background": "light"
     },
     "output_type": "display_data"
    }
   ],
   "source": [
    "df_scoring = pd.DataFrame(lst)\n",
    "df_scoring.columns = ['max_depth','n_estimators', 'scoring']\n",
    "\n",
    "n_estimators_2 = df_scoring.loc[df_scoring['n_estimators'] == 2]\n",
    "n_estimators_3 = df_scoring.loc[df_scoring['n_estimators'] == 3]\n",
    "n_estimators_4 = df_scoring.loc[df_scoring['n_estimators'] == 4]\n",
    "n_estimators_5 = df_scoring.loc[df_scoring['n_estimators'] == 5]\n",
    "n_estimators_10 = df_scoring.loc[df_scoring['n_estimators'] == 10]\n",
    "n_estimators_50 = df_scoring.loc[df_scoring['n_estimators'] == 50]\n",
    "n_estimators_100 = df_scoring.loc[df_scoring['n_estimators'] == 100]\n",
    "\n",
    "plt.figure(figsize=(8, 8))\n",
    "plt.plot(n_estimators_2['max_depth'], n_estimators_2['scoring'], label = \"n_estimators = 2\")\n",
    "plt.plot(n_estimators_3['max_depth'], n_estimators_3['scoring'], label = \"n_estimators = 3\")\n",
    "plt.plot(n_estimators_4['max_depth'], n_estimators_4['scoring'], label = \"n_estimators = 4\")\n",
    "plt.plot(n_estimators_5['max_depth'], n_estimators_5['scoring'], label = \"n_estimators = 5\")\n",
    "plt.plot(n_estimators_10['max_depth'], n_estimators_10['scoring'], label = \"n_estimators = 10\")\n",
    "plt.plot(n_estimators_50['max_depth'], n_estimators_50['scoring'], label = \"n_estimators = 50\")\n",
    "plt.plot(n_estimators_100['max_depth'], n_estimators_100['scoring'], label = \"n_estimators = 100\")\n",
    "\n",
    "plt.ylabel('Scoring')\n",
    "plt.xlabel('max_depth')\n",
    "plt.title('Hyperparameter tuning of max_depth')\n",
    "plt.legend(bbox_to_anchor=(1.3, 1.0), loc='upper center')\n",
    "plt.show()"
   ]
  },
  {
   "cell_type": "code",
   "execution_count": 23,
   "metadata": {},
   "outputs": [
    {
     "name": "stdout",
     "output_type": "stream",
     "text": [
      "Fitting 3 folds for each of 294 candidates, totalling 882 fits\n"
     ]
    },
    {
     "name": "stderr",
     "output_type": "stream",
     "text": [
      "[Parallel(n_jobs=-1)]: Using backend LokyBackend with 12 concurrent workers.\n",
      "[Parallel(n_jobs=-1)]: Done  17 tasks      | elapsed:    3.7s\n",
      "[Parallel(n_jobs=-1)]: Done 138 tasks      | elapsed:   17.6s\n",
      "[Parallel(n_jobs=-1)]: Done 341 tasks      | elapsed:   50.6s\n",
      "[Parallel(n_jobs=-1)]: Done 624 tasks      | elapsed:  1.6min\n",
      "[Parallel(n_jobs=-1)]: Done 882 out of 882 | elapsed:  2.4min finished\n",
      "C:\\Users\\kiran\\anaconda3\\lib\\site-packages\\sklearn\\model_selection\\_search.py:765: DataConversionWarning: A column-vector y was passed when a 1d array was expected. Please change the shape of y to (n_samples,), for example using ravel().\n",
      "  self.best_estimator_.fit(X, y, **fit_params)\n"
     ]
    },
    {
     "data": {
      "text/plain": [
       "GridSearchCV(cv=3, estimator=RandomForestClassifier(), n_jobs=-1,\n",
       "             param_grid={'criterion': ['gini', 'entropy'],\n",
       "                         'max_depth': [2, 3, 4, 5, 10, 50, 100],\n",
       "                         'max_features': ['auto', 'sqrt', 'log2'],\n",
       "                         'n_estimators': [2, 3, 4, 5, 10, 50, 100]},\n",
       "             verbose=2)"
      ]
     },
     "execution_count": 23,
     "metadata": {},
     "output_type": "execute_result"
    }
   ],
   "source": [
    "# Create the parameter grid based on the results of random search \n",
    "\n",
    "param_grid = {'n_estimators': [2, 3, 4, 5, 10, 50, 100],\n",
    "        'max_depth': [2, 3, 4, 5, 10, 50, 100],\n",
    "        'max_features' : ['auto','sqrt','log2'],\n",
    "        'criterion' : ['gini','entropy']}\n",
    "\n",
    "rf = RandomForestClassifier()\n",
    "\n",
    "# Instantiate the grid search model\n",
    "grid_search = GridSearchCV(estimator = rf, param_grid = param_grid, \n",
    "                          cv = 3, n_jobs = -1, verbose = 2)\n",
    "\n",
    "# Fit the grid search to the data\n",
    "grid_search.fit(x_train,y_train)"
   ]
  },
  {
   "cell_type": "code",
   "execution_count": 24,
   "metadata": {},
   "outputs": [
    {
     "data": {
      "text/plain": [
       "{'criterion': 'gini',\n",
       " 'max_depth': 10,\n",
       " 'max_features': 'auto',\n",
       " 'n_estimators': 2}"
      ]
     },
     "execution_count": 24,
     "metadata": {},
     "output_type": "execute_result"
    }
   ],
   "source": [
    "grid_search.best_params_"
   ]
  },
  {
   "cell_type": "code",
   "execution_count": 25,
   "metadata": {},
   "outputs": [
    {
     "name": "stdout",
     "output_type": "stream",
     "text": [
      "Scoring: 0.994392523364486\n",
      "The final RMSE on the test set is 0.15\n"
     ]
    }
   ],
   "source": [
    "RF = RandomForestClassifier(random_state = 42, \n",
    "                            criterion = \"gini\",\n",
    "                            n_estimators = 4, \n",
    "                            max_depth = 10,\n",
    "                           max_features = 'auto')\n",
    "RF.fit(x_train, y_train.values.ravel())\n",
    "prediction = RF.predict(x_test)\n",
    "scoring_RF = accuracy_score(y_test, prediction)\n",
    "print('Scoring:', str(scoring_RF))\n",
    "\n",
    "final_mse = mean_squared_error(y_test, prediction)\n",
    "final_rmse = np.sqrt(final_mse)\n",
    "print('The final RMSE on the test set is', round(final_rmse, 2))"
   ]
  },
  {
   "cell_type": "markdown",
   "metadata": {},
   "source": [
    "# XGBoost"
   ]
  },
  {
   "cell_type": "code",
   "execution_count": null,
   "metadata": {},
   "outputs": [],
   "source": [
    "#Default XGBoost Model\n",
    "\n",
    "XGBoost_model = xgb.XGBClassifier(max_depth=2,n_estimators=2,eval_metric='mlogloss')\n",
    "XGBoost_model.fit(x_train, y_train.values.ravel())\n",
    "print(XGBoost_model)\n",
    "prediction = XGBoost_model.predict(x_test)\n",
    "\n",
    "scoring_XGBoost_model = accuracy_score(y_test, prediction)\n",
    "print('Scoring:', str(scoring_XGBoost_model))\n",
    "\n",
    "final_mse = mean_squared_error(y_test, prediction)\n",
    "final_rmse = np.sqrt(final_mse)\n",
    "print('The final RMSE on the test set is', round(final_rmse, 2))"
   ]
  },
  {
   "cell_type": "code",
   "execution_count": null,
   "metadata": {},
   "outputs": [],
   "source": [
    "plot_importance(XGBoost_model, max_num_features = 5)\n",
    "plt.show()"
   ]
  },
  {
   "cell_type": "code",
   "execution_count": null,
   "metadata": {},
   "outputs": [],
   "source": [
    "# Hypertuning XGBoost Model\n",
    "\n",
    "XGBoost = xgb.XGBClassifier(eval_metric='mlogloss')\n",
    "\n",
    "param_grid = {'learning_rate': [0.2,0.4,0.8,1],\n",
    "              'max_depth': [2, 3, 4, 5, 10, 50, 100],\n",
    "              'n_estimators': [2, 3, 4, 5, 10, 50, 100]}\n",
    "\n",
    "grid_search = GridSearchCV(estimator = XGBoost, param_grid = param_grid, \n",
    "                          cv = 3, n_jobs = -1, verbose = 2)\n",
    "\n",
    "grid_search.fit(x_train,y_train)"
   ]
  },
  {
   "cell_type": "code",
   "execution_count": null,
   "metadata": {},
   "outputs": [],
   "source": [
    "grid_search.best_params_"
   ]
  },
  {
   "cell_type": "code",
   "execution_count": null,
   "metadata": {},
   "outputs": [],
   "source": [
    "# Hypertuning XGBoost Model\n",
    "import time\n",
    "\n",
    "start_time = time.time()\n",
    "\n",
    "XGBoost = xgb.XGBClassifier(eval_metric='mlogloss',\n",
    "                            learning_rate = 0.8,\n",
    "                            max_depth = 4,\n",
    "                            n_estimators = 3)\n",
    "XGBoost.fit(x_train, y_train.values.ravel())\n",
    "print(time.time() - start_time, \"seconds\")\n",
    "prediction = XGBoost.predict(x_test)\n",
    "scoring_XGBoost = accuracy_score(y_test, prediction)\n",
    "print('Scoring:', str(scoring_XGBoost))\n",
    "\n",
    "final_mse = mean_squared_error(y_test, prediction)\n",
    "final_rmse = np.sqrt(final_mse)\n",
    "print('The final RMSE on the test set is', round(final_rmse, 2))"
   ]
  },
  {
   "cell_type": "code",
   "execution_count": null,
   "metadata": {},
   "outputs": [],
   "source": [
    "start_time = time.time()\n",
    "RF = RandomForestClassifier(random_state = 42, \n",
    "                            criterion = \"gini\",\n",
    "                            n_estimators = 4, \n",
    "                            max_depth = 10,\n",
    "                           max_features = 'auto')\n",
    "RF.fit(x_train, y_train.values.ravel())\n",
    "print(time.time() - start_time, \"seconds\")\n",
    "prediction = RF.predict(x_test)\n",
    "scoring_RF = accuracy_score(y_test, prediction)\n",
    "print('Scoring:', str(scoring_RF))\n",
    "\n",
    "final_mse = mean_squared_error(y_test, prediction)\n",
    "final_rmse = np.sqrt(final_mse)\n",
    "print('The final RMSE on the test set is', round(final_rmse, 2))"
   ]
  },
  {
   "cell_type": "markdown",
   "metadata": {},
   "source": [
    "# Multinomial Linear Classification"
   ]
  },
  {
   "cell_type": "code",
   "execution_count": 44,
   "metadata": {},
   "outputs": [],
   "source": [
    "#Splitting the dataset. A 0.2 test_size is used.\n",
    "x_train, x_test, y_train, y_test = train_test_split(x_var, y_var, test_size = 0.4, random_state = 42)"
   ]
  },
  {
   "cell_type": "code",
   "execution_count": 45,
   "metadata": {},
   "outputs": [
    {
     "data": {
      "text/plain": [
       "(115560, 1)"
      ]
     },
     "execution_count": 45,
     "metadata": {},
     "output_type": "execute_result"
    }
   ],
   "source": [
    "y_train.shape"
   ]
  },
  {
   "cell_type": "code",
   "execution_count": 83,
   "metadata": {},
   "outputs": [
    {
     "name": "stderr",
     "output_type": "stream",
     "text": [
      "C:\\Users\\kiran\\anaconda3\\lib\\site-packages\\sklearn\\utils\\optimize.py:211: ConvergenceWarning: newton-cg failed to converge. Increase the number of iterations.\n",
      "  warnings.warn(\"newton-cg failed to converge. Increase the \"\n"
     ]
    },
    {
     "data": {
      "text/plain": [
       "LogisticRegression(multi_class='multinomial', solver='newton-cg')"
      ]
     },
     "execution_count": 83,
     "metadata": {},
     "output_type": "execute_result"
    }
   ],
   "source": [
    "#importing train_test_split from sklearn\n",
    "from sklearn.datasets import make_classification\n",
    "from sklearn.model_selection import cross_val_score\n",
    "from sklearn.model_selection import RepeatedStratifiedKFold\n",
    "from sklearn.linear_model import LogisticRegression\n",
    "# creating an instance of the LinearRegression class\n",
    "#lbfgs Large scale Bound countrained Optimization\n",
    "LR = LogisticRegression(multi_class = 'multinomial', solver = 'newton-cg')\n",
    "#fitting the training data\n",
    "LR.fit(x_train, np.array(y_train).ravel())"
   ]
  },
  {
   "cell_type": "code",
   "execution_count": 84,
   "metadata": {},
   "outputs": [
    {
     "name": "stdout",
     "output_type": "stream",
     "text": [
      "[2 2 2 ... 1 2 2]\n"
     ]
    },
    {
     "data": {
      "text/plain": [
       "Type    115560\n",
       "dtype: int64"
      ]
     },
     "execution_count": 84,
     "metadata": {},
     "output_type": "execute_result"
    }
   ],
   "source": [
    "y_predict = LR.predict(x_test)\n",
    "print(y_predict)\n",
    "np.unique(y_predict)\n",
    "y_train.count()"
   ]
  },
  {
   "cell_type": "code",
   "execution_count": 85,
   "metadata": {},
   "outputs": [
    {
     "name": "stdout",
     "output_type": "stream",
     "text": [
      "Scoring: 0.7248182762201454\n",
      "The final RMSE on the test set is 0.89\n"
     ]
    }
   ],
   "source": [
    "scoring_RF = accuracy_score(y_test, y_predict)\n",
    "print('Scoring:', str(scoring_RF))\n",
    "\n",
    "final_mse = mean_squared_error(y_test, y_predict)\n",
    "final_rmse = np.sqrt(final_mse)\n",
    "print('The final RMSE on the test set is', round(final_rmse, 2))"
   ]
  },
  {
   "cell_type": "code",
   "execution_count": null,
   "metadata": {},
   "outputs": [],
   "source": []
  },
  {
   "cell_type": "code",
   "execution_count": null,
   "metadata": {},
   "outputs": [],
   "source": []
  },
  {
   "cell_type": "markdown",
   "metadata": {},
   "source": [
    "#Multi Layer Perceptron Classifier"
   ]
  },
  {
   "cell_type": "code",
   "execution_count": 88,
   "metadata": {},
   "outputs": [
    {
     "data": {
      "text/plain": [
       "MLPRegressor(alpha=1e-05, hidden_layer_sizes=(5, 5), random_state=1,\n",
       "             solver='sgd')"
      ]
     },
     "execution_count": 88,
     "metadata": {},
     "output_type": "execute_result"
    }
   ],
   "source": [
    "from sklearn.neural_network import MLPClassifier\n",
    "from sklearn.neural_network import MLPRegressor\n",
    "logitmlp = MLPRegressor(solver = 'sgd', alpha = 1e-5, hidden_layer_sizes=(5,5), random_state=1)\n",
    "logitmlp.fit(x_train, np.array(y_train).ravel())\n",
    "#Hidden layers are recommended to be 2/3 the size. but 2/3 the size yields very low accuracy and high RMSE"
   ]
  },
  {
   "cell_type": "code",
   "execution_count": 89,
   "metadata": {},
   "outputs": [
    {
     "name": "stdout",
     "output_type": "stream",
     "text": [
      "[2.81579513 2.81579513 2.81579513 ... 2.81579513 2.81579513 2.81579513]\n"
     ]
    },
    {
     "data": {
      "text/plain": [
       "Type    115560\n",
       "dtype: int64"
      ]
     },
     "execution_count": 89,
     "metadata": {},
     "output_type": "execute_result"
    }
   ],
   "source": [
    "y_predict = logitmlp.predict(x_test)\n",
    "print(y_predict)\n",
    "np.unique(y_predict)\n",
    "y_train.count()"
   ]
  },
  {
   "cell_type": "code",
   "execution_count": 82,
   "metadata": {},
   "outputs": [
    {
     "name": "stdout",
     "output_type": "stream",
     "text": [
      "Scoring: 0.7107606438213915\n",
      "The final RMSE on the test set is 1.12\n"
     ]
    }
   ],
   "source": [
    "scoring_RF = accuracy_score(y_test, y_predict)\n",
    "print('Scoring:', str(scoring_RF))\n",
    "\n",
    "final_mse = mean_squared_error(y_test, y_predict)\n",
    "final_rmse = np.sqrt(final_mse)\n",
    "print('The final RMSE on the test set is', round(final_rmse, 2))"
   ]
  },
  {
   "cell_type": "code",
   "execution_count": null,
   "metadata": {},
   "outputs": [],
   "source": []
  }
 ],
 "metadata": {
  "kernelspec": {
   "display_name": "Python 3",
   "language": "python",
   "name": "python3"
  },
  "language_info": {
   "codemirror_mode": {
    "name": "ipython",
    "version": 3
   },
   "file_extension": ".py",
   "mimetype": "text/x-python",
   "name": "python",
   "nbconvert_exporter": "python",
   "pygments_lexer": "ipython3",
   "version": "3.8.5"
  }
 },
 "nbformat": 4,
 "nbformat_minor": 4
}

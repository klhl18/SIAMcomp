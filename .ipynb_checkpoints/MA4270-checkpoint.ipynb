{
 "cells": [
  {
   "cell_type": "markdown",
   "metadata": {},
   "source": [
    "# Problem:\n",
    "##### Classify the type of glass based on several explanatory factors affecting the type of glass like Fe,Na,Mg etc."
   ]
  },
  {
   "cell_type": "markdown",
   "metadata": {},
   "source": [
    "# Import File Packages "
   ]
  },
  {
   "cell_type": "code",
   "execution_count": 1,
   "metadata": {},
   "outputs": [],
   "source": [
    "import pandas as pd\n",
    "import numpy as np\n",
    "\n",
    "# ML packages\n",
    "from sklearn import datasets\n",
    "from sklearn import metrics\n",
    "from sklearn.model_selection import train_test_split\n",
    "from sklearn.ensemble import RandomForestClassifier\n",
    "from sklearn.metrics import accuracy_score\n",
    "\n",
    "# Visualisation packages\n",
    "import seaborn as sns\n",
    "sns.set_theme(style = \"whitegrid\")\n",
    "import matplotlib.pyplot as plt\n",
    "%matplotlib inline"
   ]
  },
  {
   "cell_type": "markdown",
   "metadata": {},
   "source": [
    "# Dataset"
   ]
  },
  {
   "cell_type": "code",
   "execution_count": 2,
   "metadata": {},
   "outputs": [],
   "source": [
    "# Explanatory Factors: \n",
    "# 1. RI: refractive index\n",
    "# 2. Na: Sodium (unit measurement: weight percent in corresponding oxide, as are attributes 3-9)\n",
    "# 3. Mg: Magnesium\n",
    "# 4. Al: Aluminum\n",
    "# 5. Si: Silicon\n",
    "# 6. K: Potassium\n",
    "# 7. Ca: Calcium\n",
    "# 8. Ba: Barium\n",
    "# 9. Fe: Iron\n",
    "\n",
    "# Type of glass:\n",
    "# -- 1 building windows float processed: 'build wind float'\n",
    "# -- 2 building windows non-float processed: 'build wind non-float'\n",
    "# -- 3 vehicle windows float processed: 'vehic wind float'\n",
    "# -- 4 vehicle windows non-float processed (none in this database)\n",
    "# -- 5 containers\n",
    "# -- 6 tableware\n",
    "# -- 7 headlamps"
   ]
  },
  {
   "cell_type": "code",
   "execution_count": 3,
   "metadata": {},
   "outputs": [
    {
     "data": {
      "text/html": [
       "<div>\n",
       "<style scoped>\n",
       "    .dataframe tbody tr th:only-of-type {\n",
       "        vertical-align: middle;\n",
       "    }\n",
       "\n",
       "    .dataframe tbody tr th {\n",
       "        vertical-align: top;\n",
       "    }\n",
       "\n",
       "    .dataframe thead th {\n",
       "        text-align: right;\n",
       "    }\n",
       "</style>\n",
       "<table border=\"1\" class=\"dataframe\">\n",
       "  <thead>\n",
       "    <tr style=\"text-align: right;\">\n",
       "      <th></th>\n",
       "      <th>Unnamed: 0</th>\n",
       "      <th>Unnamed: 0.1</th>\n",
       "      <th>RI</th>\n",
       "      <th>Na</th>\n",
       "      <th>Mg</th>\n",
       "      <th>Al</th>\n",
       "      <th>Si</th>\n",
       "      <th>K</th>\n",
       "      <th>Ca</th>\n",
       "      <th>Ba</th>\n",
       "      <th>Fe</th>\n",
       "      <th>Type</th>\n",
       "    </tr>\n",
       "  </thead>\n",
       "  <tbody>\n",
       "    <tr>\n",
       "      <th>0</th>\n",
       "      <td>0</td>\n",
       "      <td>2732</td>\n",
       "      <td>1.52211</td>\n",
       "      <td>14.19</td>\n",
       "      <td>3.78</td>\n",
       "      <td>0.91</td>\n",
       "      <td>71.36</td>\n",
       "      <td>0.23</td>\n",
       "      <td>9.14</td>\n",
       "      <td>0.00</td>\n",
       "      <td>0.37</td>\n",
       "      <td>'vehic wind float'</td>\n",
       "    </tr>\n",
       "    <tr>\n",
       "      <th>1</th>\n",
       "      <td>1</td>\n",
       "      <td>2607</td>\n",
       "      <td>1.51645</td>\n",
       "      <td>14.94</td>\n",
       "      <td>0.00</td>\n",
       "      <td>1.87</td>\n",
       "      <td>73.11</td>\n",
       "      <td>0.00</td>\n",
       "      <td>8.67</td>\n",
       "      <td>1.38</td>\n",
       "      <td>0.00</td>\n",
       "      <td>headlamps</td>\n",
       "    </tr>\n",
       "    <tr>\n",
       "      <th>2</th>\n",
       "      <td>2</td>\n",
       "      <td>1653</td>\n",
       "      <td>1.51793</td>\n",
       "      <td>13.21</td>\n",
       "      <td>3.48</td>\n",
       "      <td>1.41</td>\n",
       "      <td>72.64</td>\n",
       "      <td>0.59</td>\n",
       "      <td>8.43</td>\n",
       "      <td>0.00</td>\n",
       "      <td>0.00</td>\n",
       "      <td>'build wind float'</td>\n",
       "    </tr>\n",
       "    <tr>\n",
       "      <th>3</th>\n",
       "      <td>3</td>\n",
       "      <td>3264</td>\n",
       "      <td>1.51730</td>\n",
       "      <td>12.35</td>\n",
       "      <td>2.72</td>\n",
       "      <td>1.63</td>\n",
       "      <td>72.87</td>\n",
       "      <td>0.70</td>\n",
       "      <td>9.23</td>\n",
       "      <td>0.00</td>\n",
       "      <td>0.00</td>\n",
       "      <td>'build wind non-float'</td>\n",
       "    </tr>\n",
       "    <tr>\n",
       "      <th>4</th>\n",
       "      <td>4</td>\n",
       "      <td>4931</td>\n",
       "      <td>1.51673</td>\n",
       "      <td>13.30</td>\n",
       "      <td>3.64</td>\n",
       "      <td>1.53</td>\n",
       "      <td>72.53</td>\n",
       "      <td>0.65</td>\n",
       "      <td>8.03</td>\n",
       "      <td>0.00</td>\n",
       "      <td>0.29</td>\n",
       "      <td>'build wind non-float'</td>\n",
       "    </tr>\n",
       "  </tbody>\n",
       "</table>\n",
       "</div>"
      ],
      "text/plain": [
       "   Unnamed: 0  Unnamed: 0.1       RI     Na    Mg    Al     Si     K    Ca  \\\n",
       "0           0          2732  1.52211  14.19  3.78  0.91  71.36  0.23  9.14   \n",
       "1           1          2607  1.51645  14.94  0.00  1.87  73.11  0.00  8.67   \n",
       "2           2          1653  1.51793  13.21  3.48  1.41  72.64  0.59  8.43   \n",
       "3           3          3264  1.51730  12.35  2.72  1.63  72.87  0.70  9.23   \n",
       "4           4          4931  1.51673  13.30  3.64  1.53  72.53  0.65  8.03   \n",
       "\n",
       "     Ba    Fe                    Type  \n",
       "0  0.00  0.37      'vehic wind float'  \n",
       "1  1.38  0.00               headlamps  \n",
       "2  0.00  0.00      'build wind float'  \n",
       "3  0.00  0.00  'build wind non-float'  \n",
       "4  0.00  0.29  'build wind non-float'  "
      ]
     },
     "execution_count": 3,
     "metadata": {},
     "output_type": "execute_result"
    }
   ],
   "source": [
    "df = pd.read_csv(r\"C:\\Users\\siyin\\Desktop\\MA4270_Coding\\Glass_Type.csv\")\n",
    "df.head()"
   ]
  },
  {
   "cell_type": "code",
   "execution_count": 4,
   "metadata": {},
   "outputs": [
    {
     "data": {
      "text/html": [
       "<div>\n",
       "<style scoped>\n",
       "    .dataframe tbody tr th:only-of-type {\n",
       "        vertical-align: middle;\n",
       "    }\n",
       "\n",
       "    .dataframe tbody tr th {\n",
       "        vertical-align: top;\n",
       "    }\n",
       "\n",
       "    .dataframe thead th {\n",
       "        text-align: right;\n",
       "    }\n",
       "</style>\n",
       "<table border=\"1\" class=\"dataframe\">\n",
       "  <thead>\n",
       "    <tr style=\"text-align: right;\">\n",
       "      <th></th>\n",
       "      <th>RI</th>\n",
       "      <th>Na</th>\n",
       "      <th>Mg</th>\n",
       "      <th>Al</th>\n",
       "      <th>Si</th>\n",
       "      <th>K</th>\n",
       "      <th>Ca</th>\n",
       "      <th>Ba</th>\n",
       "      <th>Fe</th>\n",
       "      <th>Type</th>\n",
       "    </tr>\n",
       "  </thead>\n",
       "  <tbody>\n",
       "    <tr>\n",
       "      <th>0</th>\n",
       "      <td>1.52211</td>\n",
       "      <td>14.19</td>\n",
       "      <td>3.78</td>\n",
       "      <td>0.91</td>\n",
       "      <td>71.36</td>\n",
       "      <td>0.23</td>\n",
       "      <td>9.14</td>\n",
       "      <td>0.00</td>\n",
       "      <td>0.37</td>\n",
       "      <td>'vehic wind float'</td>\n",
       "    </tr>\n",
       "    <tr>\n",
       "      <th>1</th>\n",
       "      <td>1.51645</td>\n",
       "      <td>14.94</td>\n",
       "      <td>0.00</td>\n",
       "      <td>1.87</td>\n",
       "      <td>73.11</td>\n",
       "      <td>0.00</td>\n",
       "      <td>8.67</td>\n",
       "      <td>1.38</td>\n",
       "      <td>0.00</td>\n",
       "      <td>headlamps</td>\n",
       "    </tr>\n",
       "    <tr>\n",
       "      <th>2</th>\n",
       "      <td>1.51793</td>\n",
       "      <td>13.21</td>\n",
       "      <td>3.48</td>\n",
       "      <td>1.41</td>\n",
       "      <td>72.64</td>\n",
       "      <td>0.59</td>\n",
       "      <td>8.43</td>\n",
       "      <td>0.00</td>\n",
       "      <td>0.00</td>\n",
       "      <td>'build wind float'</td>\n",
       "    </tr>\n",
       "    <tr>\n",
       "      <th>3</th>\n",
       "      <td>1.51730</td>\n",
       "      <td>12.35</td>\n",
       "      <td>2.72</td>\n",
       "      <td>1.63</td>\n",
       "      <td>72.87</td>\n",
       "      <td>0.70</td>\n",
       "      <td>9.23</td>\n",
       "      <td>0.00</td>\n",
       "      <td>0.00</td>\n",
       "      <td>'build wind non-float'</td>\n",
       "    </tr>\n",
       "    <tr>\n",
       "      <th>4</th>\n",
       "      <td>1.51673</td>\n",
       "      <td>13.30</td>\n",
       "      <td>3.64</td>\n",
       "      <td>1.53</td>\n",
       "      <td>72.53</td>\n",
       "      <td>0.65</td>\n",
       "      <td>8.03</td>\n",
       "      <td>0.00</td>\n",
       "      <td>0.29</td>\n",
       "      <td>'build wind non-float'</td>\n",
       "    </tr>\n",
       "  </tbody>\n",
       "</table>\n",
       "</div>"
      ],
      "text/plain": [
       "        RI     Na    Mg    Al     Si     K    Ca    Ba    Fe  \\\n",
       "0  1.52211  14.19  3.78  0.91  71.36  0.23  9.14  0.00  0.37   \n",
       "1  1.51645  14.94  0.00  1.87  73.11  0.00  8.67  1.38  0.00   \n",
       "2  1.51793  13.21  3.48  1.41  72.64  0.59  8.43  0.00  0.00   \n",
       "3  1.51730  12.35  2.72  1.63  72.87  0.70  9.23  0.00  0.00   \n",
       "4  1.51673  13.30  3.64  1.53  72.53  0.65  8.03  0.00  0.29   \n",
       "\n",
       "                     Type  \n",
       "0      'vehic wind float'  \n",
       "1               headlamps  \n",
       "2      'build wind float'  \n",
       "3  'build wind non-float'  \n",
       "4  'build wind non-float'  "
      ]
     },
     "execution_count": 4,
     "metadata": {},
     "output_type": "execute_result"
    }
   ],
   "source": [
    "df_1 = df.drop(['Unnamed: 0','Unnamed: 0.1'], axis=1)\n",
    "df_1.head()"
   ]
  },
  {
   "cell_type": "code",
   "execution_count": 5,
   "metadata": {},
   "outputs": [
    {
     "data": {
      "text/html": [
       "<div>\n",
       "<style scoped>\n",
       "    .dataframe tbody tr th:only-of-type {\n",
       "        vertical-align: middle;\n",
       "    }\n",
       "\n",
       "    .dataframe tbody tr th {\n",
       "        vertical-align: top;\n",
       "    }\n",
       "\n",
       "    .dataframe thead th {\n",
       "        text-align: right;\n",
       "    }\n",
       "</style>\n",
       "<table border=\"1\" class=\"dataframe\">\n",
       "  <thead>\n",
       "    <tr style=\"text-align: right;\">\n",
       "      <th></th>\n",
       "      <th>RI</th>\n",
       "      <th>Na</th>\n",
       "      <th>Mg</th>\n",
       "      <th>Al</th>\n",
       "      <th>Si</th>\n",
       "      <th>K</th>\n",
       "      <th>Ca</th>\n",
       "      <th>Ba</th>\n",
       "      <th>Fe</th>\n",
       "      <th>Type</th>\n",
       "    </tr>\n",
       "  </thead>\n",
       "  <tbody>\n",
       "    <tr>\n",
       "      <th>0</th>\n",
       "      <td>1.52211</td>\n",
       "      <td>14.19</td>\n",
       "      <td>3.78</td>\n",
       "      <td>0.91</td>\n",
       "      <td>71.36</td>\n",
       "      <td>0.23</td>\n",
       "      <td>9.14</td>\n",
       "      <td>0.00</td>\n",
       "      <td>0.37</td>\n",
       "      <td>3</td>\n",
       "    </tr>\n",
       "    <tr>\n",
       "      <th>1</th>\n",
       "      <td>1.51645</td>\n",
       "      <td>14.94</td>\n",
       "      <td>0.00</td>\n",
       "      <td>1.87</td>\n",
       "      <td>73.11</td>\n",
       "      <td>0.00</td>\n",
       "      <td>8.67</td>\n",
       "      <td>1.38</td>\n",
       "      <td>0.00</td>\n",
       "      <td>7</td>\n",
       "    </tr>\n",
       "    <tr>\n",
       "      <th>2</th>\n",
       "      <td>1.51793</td>\n",
       "      <td>13.21</td>\n",
       "      <td>3.48</td>\n",
       "      <td>1.41</td>\n",
       "      <td>72.64</td>\n",
       "      <td>0.59</td>\n",
       "      <td>8.43</td>\n",
       "      <td>0.00</td>\n",
       "      <td>0.00</td>\n",
       "      <td>1</td>\n",
       "    </tr>\n",
       "    <tr>\n",
       "      <th>3</th>\n",
       "      <td>1.51730</td>\n",
       "      <td>12.35</td>\n",
       "      <td>2.72</td>\n",
       "      <td>1.63</td>\n",
       "      <td>72.87</td>\n",
       "      <td>0.70</td>\n",
       "      <td>9.23</td>\n",
       "      <td>0.00</td>\n",
       "      <td>0.00</td>\n",
       "      <td>2</td>\n",
       "    </tr>\n",
       "    <tr>\n",
       "      <th>4</th>\n",
       "      <td>1.51673</td>\n",
       "      <td>13.30</td>\n",
       "      <td>3.64</td>\n",
       "      <td>1.53</td>\n",
       "      <td>72.53</td>\n",
       "      <td>0.65</td>\n",
       "      <td>8.03</td>\n",
       "      <td>0.00</td>\n",
       "      <td>0.29</td>\n",
       "      <td>2</td>\n",
       "    </tr>\n",
       "  </tbody>\n",
       "</table>\n",
       "</div>"
      ],
      "text/plain": [
       "        RI     Na    Mg    Al     Si     K    Ca    Ba    Fe  Type\n",
       "0  1.52211  14.19  3.78  0.91  71.36  0.23  9.14  0.00  0.37     3\n",
       "1  1.51645  14.94  0.00  1.87  73.11  0.00  8.67  1.38  0.00     7\n",
       "2  1.51793  13.21  3.48  1.41  72.64  0.59  8.43  0.00  0.00     1\n",
       "3  1.51730  12.35  2.72  1.63  72.87  0.70  9.23  0.00  0.00     2\n",
       "4  1.51673  13.30  3.64  1.53  72.53  0.65  8.03  0.00  0.29     2"
      ]
     },
     "execution_count": 5,
     "metadata": {},
     "output_type": "execute_result"
    }
   ],
   "source": [
    "Dict = {\"'build wind float'\": 1,\\\n",
    "        \"'build wind non-float'\": 2,\\\n",
    "        \"'vehic wind float'\": 3,\\\n",
    "        \"'vehic wind non-float'\": 4,\\\n",
    "        'containers': 5,\\\n",
    "        'tableware': 6,\\\n",
    "        'headlamps': 7}\n",
    "df_1['Type'] = df_1['Type'].map(Dict)\n",
    "df_1.head()"
   ]
  },
  {
   "cell_type": "code",
   "execution_count": 6,
   "metadata": {},
   "outputs": [
    {
     "data": {
      "text/plain": [
       "RI      0\n",
       "Na      0\n",
       "Mg      0\n",
       "Al      0\n",
       "Si      0\n",
       "K       0\n",
       "Ca      0\n",
       "Ba      0\n",
       "Fe      0\n",
       "Type    0\n",
       "dtype: int64"
      ]
     },
     "execution_count": 6,
     "metadata": {},
     "output_type": "execute_result"
    }
   ],
   "source": [
    "# Check no null value in dataset\n",
    "df_1.isna().sum()"
   ]
  },
  {
   "cell_type": "markdown",
   "metadata": {},
   "source": [
    "# Exploring Data "
   ]
  },
  {
   "cell_type": "code",
   "execution_count": 7,
   "metadata": {},
   "outputs": [
    {
     "data": {
      "text/plain": [
       "Text(0.5, 1.0, 'Count of Glass Types')"
      ]
     },
     "execution_count": 7,
     "metadata": {},
     "output_type": "execute_result"
    },
    {
     "data": {
      "image/png": "[encoded data removed]",
      "text/plain": [
       "<Figure size 432x288 with 1 Axes>"
      ]
     },
     "metadata": {
      "needs_background": "light"
     },
     "output_type": "display_data"
    }
   ],
   "source": [
    "sns.countplot(x = 'Type', data = df_1).set_title(\"Count of Glass Types\")\n",
    "\n",
    "# Comments:\n",
    "# Type 1 and 2 have the highest count in this dataset.\n",
    "# Need to make sure that the train and test data set have a good representation of different glass types."
   ]
  },
  {
   "cell_type": "code",
   "execution_count": 8,
   "metadata": {},
   "outputs": [
    {
     "data": {
      "text/plain": [
       "<AxesSubplot:>"
      ]
     },
     "execution_count": 8,
     "metadata": {},
     "output_type": "execute_result"
    },
    {
     "data": {
      "image/png": "[encoded data removed]",
      "text/plain": [
       "<Figure size 1152x720 with 2 Axes>"
      ]
     },
     "metadata": {
      "needs_background": "light"
     },
     "output_type": "display_data"
    }
   ],
   "source": [
    "# Check for correlations via heatmap\n",
    "plt.figure(figsize=(16,10))\n",
    "\n",
    "# Masking\n",
    "mask = np.zeros_like(df_1.corr())\n",
    "triangle_indices = np.triu_indices_from(mask)\n",
    "mask[triangle_indices] = True\n",
    "\n",
    "sns.heatmap(df_1.corr(), cmap = \"YlGnBu\", annot = True, fmt =\".02f\", linewidth = 0.5, mask = mask)\n",
    "\n",
    "# Comments:\n",
    "# RI and Ca have a high positive correlation\n",
    "# RI and Si have a negative correlation"
   ]
  },
  {
   "cell_type": "markdown",
   "metadata": {},
   "source": [
    "# Model: Random Forest"
   ]
  },
  {
   "cell_type": "code",
   "execution_count": 9,
   "metadata": {},
   "outputs": [
    {
     "name": "stdout",
     "output_type": "stream",
     "text": [
      "[1 2 3 5 6 7]\n",
      "[1 2 3 5 6 7]\n"
     ]
    }
   ],
   "source": [
    "# Split Dataset: 70% train, 30% test\n",
    "x_var = df_1[['RI','Na','Mg','Al','Si','K','Ca','Ba','Fe']]\n",
    "y_var = df_1[['Type']]\n",
    "x_train, x_test, y_train, y_test = train_test_split(x_var, y_var, test_size = 0.3, random_state = 40)\n",
    "\n",
    "# Make sure that all types of glass is in the test dataset. Note: glass type 4 is not in this dataset\n",
    "print(np.unique(y_train))\n",
    "print(np.unique(y_test))"
   ]
  },
  {
   "cell_type": "code",
   "execution_count": 10,
   "metadata": {},
   "outputs": [
    {
     "name": "stderr",
     "output_type": "stream",
     "text": [
      "<ipython-input-10-751a8bea1934>:5: DataConversionWarning: A column-vector y was passed when a 1d array was expected. Please change the shape of y to (n_samples,), for example using ravel().\n",
      "  RF.fit(x_train, y_train)\n"
     ]
    },
    {
     "name": "stdout",
     "output_type": "stream",
     "text": [
      "0.9178608515057113\n"
     ]
    }
   ],
   "source": [
    "# Random Forest\n",
    "# n_estimators: number of trees\n",
    "# max_depth: recommended is 5-8\n",
    "RF = RandomForestClassifier(max_depth = 5, min_samples_split = 2, n_estimators = 10, random_state = 2)\n",
    "RF.fit(x_train, y_train)\n",
    "prediction = RF.predict(x_test)\n",
    "scoring_RF = accuracy_score(y_test,prediction)\n",
    "print(scoring_RF)"
   ]
  },
  {
   "cell_type": "code",
   "execution_count": 11,
   "metadata": {},
   "outputs": [
    {
     "name": "stderr",
     "output_type": "stream",
     "text": [
      "<ipython-input-11-26c620f59301>:2: DataConversionWarning: A column-vector y was passed when a 1d array was expected. Please change the shape of y to (n_samples,), for example using ravel().\n",
      "  RF.fit(x_train, y_train)\n"
     ]
    },
    {
     "name": "stdout",
     "output_type": "stream",
     "text": [
      "0.6384389061959156\n"
     ]
    }
   ],
   "source": [
    "RF = RandomForestClassifier(max_depth = 2, min_samples_split = 2, n_estimators = 10, random_state = 2)\n",
    "RF.fit(x_train, y_train)\n",
    "prediction = RF.predict(x_test)\n",
    "scoring_RF = accuracy_score(y_test,prediction)\n",
    "print(scoring_RF)"
   ]
  },
  {
   "cell_type": "code",
   "execution_count": 12,
   "metadata": {},
   "outputs": [
    {
     "name": "stderr",
     "output_type": "stream",
     "text": [
      "<ipython-input-12-964d7cec0114>:2: DataConversionWarning: A column-vector y was passed when a 1d array was expected. Please change the shape of y to (n_samples,), for example using ravel().\n",
      "  RF.fit(x_train, y_train)\n"
     ]
    },
    {
     "name": "stdout",
     "output_type": "stream",
     "text": [
      "0.9909311180339218\n"
     ]
    }
   ],
   "source": [
    "RF = RandomForestClassifier(max_depth = 9, min_samples_split = 2, n_estimators = 10, random_state = 2)\n",
    "RF.fit(x_train, y_train)\n",
    "prediction = RF.predict(x_test)\n",
    "scoring_RF = accuracy_score(y_test,prediction)\n",
    "print(scoring_RF)"
   ]
  },
  {
   "cell_type": "code",
   "execution_count": 13,
   "metadata": {},
   "outputs": [
    {
     "name": "stderr",
     "output_type": "stream",
     "text": [
      "<ipython-input-13-b19e266f200e>:2: DataConversionWarning: A column-vector y was passed when a 1d array was expected. Please change the shape of y to (n_samples,), for example using ravel().\n",
      "  RF.fit(x_train, y_train)\n"
     ]
    },
    {
     "name": "stdout",
     "output_type": "stream",
     "text": [
      "0.9962962962962963\n"
     ]
    }
   ],
   "source": [
    "RF = RandomForestClassifier(max_depth = 10, min_samples_split = 2, n_estimators = 10, random_state = 2)\n",
    "RF.fit(x_train, y_train)\n",
    "prediction = RF.predict(x_test)\n",
    "scoring_RF = accuracy_score(y_test,prediction)\n",
    "print(scoring_RF)"
   ]
  },
  {
   "cell_type": "code",
   "execution_count": 14,
   "metadata": {},
   "outputs": [
    {
     "name": "stderr",
     "output_type": "stream",
     "text": [
      "<ipython-input-14-954a4e9efeeb>:2: DataConversionWarning: A column-vector y was passed when a 1d array was expected. Please change the shape of y to (n_samples,), for example using ravel().\n",
      "  RF.fit(x_train, y_train)\n"
     ]
    },
    {
     "name": "stdout",
     "output_type": "stream",
     "text": [
      "1.0\n"
     ]
    }
   ],
   "source": [
    "RF = RandomForestClassifier(max_depth = 100, min_samples_split = 2, n_estimators = 10, random_state = 2)\n",
    "RF.fit(x_train, y_train)\n",
    "prediction = RF.predict(x_test)\n",
    "scoring_RF = accuracy_score(y_test,prediction)\n",
    "print(scoring_RF)"
   ]
  },
  {
   "cell_type": "code",
   "execution_count": 15,
   "metadata": {},
   "outputs": [
    {
     "name": "stderr",
     "output_type": "stream",
     "text": [
      "<ipython-input-15-11b54538b372>:2: DataConversionWarning: A column-vector y was passed when a 1d array was expected. Please change the shape of y to (n_samples,), for example using ravel().\n",
      "  RF.fit(x_train, y_train)\n"
     ]
    },
    {
     "name": "stdout",
     "output_type": "stream",
     "text": [
      "0.9178608515057113\n"
     ]
    }
   ],
   "source": [
    "RF = RandomForestClassifier(max_depth = 5, min_samples_split = 5, n_estimators = 10, random_state = 2)\n",
    "RF.fit(x_train, y_train)\n",
    "prediction = RF.predict(x_test)\n",
    "scoring_RF = accuracy_score(y_test,prediction)\n",
    "print(scoring_RF)"
   ]
  },
  {
   "cell_type": "code",
   "execution_count": 16,
   "metadata": {},
   "outputs": [],
   "source": [
    "from sklearn.model_selection import RandomizedSearchCV"
   ]
  },
  {
   "cell_type": "code",
   "execution_count": null,
   "metadata": {},
   "outputs": [],
   "source": []
  }
 ],
 "metadata": {
  "kernelspec": {
   "display_name": "Python 3",
   "language": "python",
   "name": "python3"
  },
  "language_info": {
   "codemirror_mode": {
    "name": "ipython",
    "version": 3
   },
   "file_extension": ".py",
   "mimetype": "text/x-python",
   "name": "python",
   "nbconvert_exporter": "python",
   "pygments_lexer": "ipython3",
   "version": "3.8.5"
  }
 },
 "nbformat": 4,
 "nbformat_minor": 4
}
